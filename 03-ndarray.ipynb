{
 "cells": [
  {
   "cell_type": "code",
   "execution_count": 2,
   "metadata": {},
   "outputs": [],
   "source": [
    "# 1. Creating arrays\n",
    "\n",
    "import numpy as np\n",
    "\n",
    "# create a one-dimensional array\n",
    "a = np.array([1, 2, 3])\n",
    "\n",
    "# create a two-dimensional array\n",
    "b = np.array([[1, 2, 3], [4, 5, 6]])\n",
    "\n",
    "# create a three-dimensional array\n",
    "c = np.array([[[1, 2], [3, 4]], [[5, 6], [7, 8]]])\n",
    "\n",
    "# create a one-dimensional array of zeros\n",
    "d = np.zeros(5)\n",
    "\n",
    "# create a two-dimensional array of ones\n",
    "e = np.ones((2, 3))"
   ]
  },
  {
   "cell_type": "code",
   "execution_count": 3,
   "metadata": {},
   "outputs": [
    {
     "name": "stdout",
     "output_type": "stream",
     "text": [
      "1\n",
      "2\n"
     ]
    }
   ],
   "source": [
    "# 2. Accessing array elements\n",
    "\n",
    "# create a one-dimensional array\n",
    "a = np.array([1, 2, 3])\n",
    "\n",
    "# access the first element of the array\n",
    "print(a[0])\n",
    "\n",
    "# create a two-dimensional array\n",
    "b = np.array([[1, 2, 3], [4, 5, 6]])\n",
    "\n",
    "# access the second element of the first row\n",
    "print(b[0, 1])"
   ]
  },
  {
   "cell_type": "code",
   "execution_count": 4,
   "metadata": {},
   "outputs": [],
   "source": [
    "# 3. Array operations\n",
    "\n",
    "# create two arrays\n",
    "a = np.array([1, 2, 3])\n",
    "b = np.array([4, 5, 6])\n",
    "\n",
    "# add the two arrays\n",
    "c = a + b\n",
    "\n",
    "# multiply the two arrays\n",
    "d = a * b\n",
    "\n",
    "# take the sine of the first array\n",
    "e = np.sin(a)"
   ]
  },
  {
   "cell_type": "code",
   "execution_count": 5,
   "metadata": {},
   "outputs": [],
   "source": [
    "# 4. Array slicing\n",
    "\n",
    "# create a one-dimensional array\n",
    "a = np.array([1, 2, 3, 4, 5])\n",
    "\n",
    "# slice the first three elements of the array\n",
    "b = a[:3]\n",
    "\n",
    "# slice the last two elements of the array\n",
    "c = a[-2:]\n",
    "\n",
    "# create a two-dimensional array\n",
    "d = np.array([[1, 2, 3], [4, 5, 6], [7, 8, 9]])\n",
    "\n",
    "# slice the first two rows and first two columns of the array\n",
    "e = d[:2, :2]"
   ]
  },
  {
   "cell_type": "code",
   "execution_count": 6,
   "metadata": {},
   "outputs": [],
   "source": [
    "# 5. Array manipulation\n",
    "\n",
    "# create a one-dimensional array\n",
    "a = np.array([1, 2, 3, 4, 5])\n",
    "\n",
    "# reshape the array into a two-dimensional array\n",
    "b = a.reshape((5, 1))\n",
    "\n",
    "# flatten the array\n",
    "c = a.flatten()"
   ]
  }
 ],
 "metadata": {
  "kernelspec": {
   "display_name": "Python 3",
   "language": "python",
   "name": "python3"
  },
  "language_info": {
   "codemirror_mode": {
    "name": "ipython",
    "version": 3
   },
   "file_extension": ".py",
   "mimetype": "text/x-python",
   "name": "python",
   "nbconvert_exporter": "python",
   "pygments_lexer": "ipython3",
   "version": "3.11.2"
  },
  "orig_nbformat": 4,
  "vscode": {
   "interpreter": {
    "hash": "aee8b7b246df8f9039afb4144a1f6fd8d2ca17a180786b69acc140d282b71a49"
   }
  }
 },
 "nbformat": 4,
 "nbformat_minor": 2
}
