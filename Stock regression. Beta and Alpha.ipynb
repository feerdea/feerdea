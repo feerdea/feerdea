{
 "cells": [
  {
   "cell_type": "code",
   "execution_count": 3,
   "id": "11d8a96f",
   "metadata": {},
   "outputs": [
    {
     "name": "stderr",
     "output_type": "stream",
     "text": [
      "/tmp/ipykernel_6537/2362364589.py:31: DeprecationWarning: Conversion of an array with ndim > 0 to a scalar is deprecated, and will error in future. Ensure you extract a single element from your array before performing this operation. (Deprecated NumPy 1.25.)\n",
      "  sample['lam'][i, j] = stats.gamma.rvs(nu1 / 2, size=1, scale=2 / nu2)\n"
     ]
    },
    {
     "data": {
      "image/png": "[encoded data removed]",
      "text/plain": [
       "<Figure size 800x400 with 2 Axes>"
      ]
     },
     "metadata": {},
     "output_type": "display_data"
    }
   ],
   "source": [
    "# NVDA regression - Bayesian\n",
    "\n",
    "import numpy as np\n",
    "import scipy.stats as stats\n",
    "import matplotlib.pyplot as plt\n",
    "import csv\n",
    "#from progressbar import progressbar\n",
    "\n",
    "# Linear regression with Student-t errors\n",
    "def full_run(y, x, n, beta0, B0, alpha0, delta0, nu0):\n",
    "    # Initialization\n",
    "    sample = {'beta': np.zeros((n, len(beta0))), 'sig2': np.zeros((n, 1)), 'lam': np.zeros((n, len(y)))}\n",
    "    sample['beta'][0, :] = beta0\n",
    "    sample['sig2'][0] = (delta0 / 2) / (alpha0 / 2 - 1)\n",
    "    sample['lam'][0, :] = 1\n",
    "    alpha1 = alpha0 + len(y)\n",
    "    nu1 = nu0 + 1\n",
    "    \n",
    "    # Sampling\n",
    "    for i in range(1, n):\n",
    "        B1 = np.linalg.inv(x.T @ np.diag(sample['lam'][i - 1, :]) @ x / sample['sig2'][i - 1] + np.linalg.inv(B0))\n",
    "        beta1 = B1 @ (x.T @ np.diag(sample['lam'][i - 1, :]) @ y / sample['sig2'][i - 1] + np.linalg.inv(B0) @ beta0.reshape(-1,1))\n",
    "        sample['beta'][i, :] = stats.multivariate_normal.rvs(size=1, mean=beta1.ravel(), cov=B1)\n",
    "        \n",
    "        err = y - x @ sample['beta'][i, :].reshape(-1, 1)\n",
    "        delta1 = delta0 + err.T @ np.diag(sample['lam'][i - 1, :]) @ err\n",
    "        sample['sig2'][i] = stats.invgamma.rvs(alpha1 / 2, size=1, scale=delta1 / 2)\n",
    "\n",
    "        for j in range(len(y)):\n",
    "            nu2 = nu0 + err[j]**2 / sample['sig2'][i]\n",
    "            sample['lam'][i, j] = stats.gamma.rvs(nu1 / 2, size=1, scale=2 / nu2)\n",
    "        \n",
    "    return sample\n",
    "\n",
    "# Import stock return data\n",
    "with open(\"NVDA.csv\", \"r\") as file:\n",
    "    reader = csv.reader(file)\n",
    "    header = next(reader)\n",
    "    data = [row for row in reader]\n",
    "\n",
    "data = np.array(data, dtype=float)\n",
    "y = data[:, header.index('HPR NVDA')].reshape(-1, 1)\n",
    "x = np.zeros((len(y), 2))\n",
    "x[:, 0] = 1\n",
    "x[:, 1] = data[:, header.index('HPR QQQ')]\n",
    "\n",
    "# Prior and posterior\n",
    "beta0 = np.array([0, 1])\n",
    "B0 = np.array([[4, 0], [0, 4]])\n",
    "alpha0 = 5\n",
    "delta0 = 5\n",
    "nu0 = 5\n",
    "sample1 = full_run(y, x, 11000, beta0, B0, alpha0, delta0, nu0)\n",
    "sample1['beta'] = sample1['beta'][1000:11000, :]\n",
    "sample1['sig2'] = sample1['sig2'][1000:11000]\n",
    "sample1['lam'] = sample1['lam'][1000:11000, :]\n",
    "\n",
    "# Plot\n",
    "fig, (ax1, ax2) = plt.subplots(1, 2, figsize=(8, 4))\n",
    "alpha = np.linspace(-6, 6, 100)\n",
    "ax1.plot(alpha, stats.norm.pdf(alpha, loc=0, scale=2))\n",
    "ax1.hist(sample1['beta'][:, 0], bins=50, density=True, color=\"red\", alpha=0.5)\n",
    "ax1.set_xlabel(r'$\\alpha$', fontsize=12)\n",
    "beta = np.linspace(-5, 7, 100)\n",
    "ax2.plot(beta, stats.norm.pdf(beta, loc=1, scale=2))\n",
    "ax2.hist(sample1['beta'][:, 1], bins=50, density=True, color=\"red\", alpha=0.5)\n",
    "ax2.set_xlabel(r'$\\beta$', fontsize=12)\n",
    "fig.suptitle('Prior vs. Posterior', fontsize=14)\n",
    "plt.show()"
   ]
  }
 ],
 "metadata": {
  "kernelspec": {
   "display_name": "Python 3",
   "language": "python",
   "name": "python3"
  },
  "language_info": {
   "codemirror_mode": {
    "name": "ipython",
    "version": 3
   },
   "file_extension": ".py",
   "mimetype": "text/x-python",
   "name": "python",
   "nbconvert_exporter": "python",
   "pygments_lexer": "ipython3",
   "version": "3.10.13"
  },
  "vscode": {
   "interpreter": {
    "hash": "aee8b7b246df8f9039afb4144a1f6fd8d2ca17a180786b69acc140d282b71a49"
   }
  }
 },
 "nbformat": 4,
 "nbformat_minor": 5
}
