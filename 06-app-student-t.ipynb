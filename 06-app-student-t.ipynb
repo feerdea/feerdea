{
 "cells": [
  {
   "cell_type": "code",
   "execution_count": 1,
   "id": "0f0fd80f",
   "metadata": {},
   "outputs": [
    {
     "name": "stderr",
     "output_type": "stream",
     "text": [
      "100% (10999 of 10999) |##################| Elapsed Time: 0:03:27 Time:  0:03:27\n"
     ]
    },
    {
     "data": {
      "image/png": "[encoded data removed]",
      "text/plain": [
       "<Figure size 640x480 with 2 Axes>"
      ]
     },
     "metadata": {},
     "output_type": "display_data"
    }
   ],
   "source": [
    "import numpy as np\n",
    "import scipy.stats as stats\n",
    "import matplotlib.pyplot as plt\n",
    "import csv\n",
    "from progressbar import progressbar\n",
    "\n",
    "# Linear regression with Student-t errors\n",
    "def full_run(y, x, n, beta0, B0, alpha0, delta0, nu0):\n",
    "    # Initialization\n",
    "    sample = {'beta': np.zeros((n, len(beta0))), 'sig2': np.zeros((n, 1)), 'lam': np.zeros((n, len(y)))}\n",
    "    sample['beta'][0, :] = beta0\n",
    "    sample['sig2'][0] = (delta0 / 2) / (alpha0 / 2 - 1)\n",
    "    sample['lam'][0, :] = 1\n",
    "    alpha1 = alpha0 + len(y)\n",
    "    nu1 = nu0 + 1\n",
    "    \n",
    "    # Sampling\n",
    "    for i in progressbar(range(1, n)):\n",
    "        B1 = np.linalg.inv(x.T @ np.diag(sample['lam'][i - 1, :]) @ x / sample['sig2'][i - 1] + np.linalg.inv(B0))\n",
    "        beta1 = B1 @ (x.T @ np.diag(sample['lam'][i - 1, :]) @ y / sample['sig2'][i - 1] + np.linalg.inv(B0) @ beta0.reshape(-1,1))\n",
    "        sample['beta'][i, :] = stats.multivariate_normal.rvs(size=1, mean=beta1.ravel(), cov=B1)\n",
    "        \n",
    "        err = y - x @ sample['beta'][i, :].reshape(-1, 1)\n",
    "        delta1 = delta0 + err.T @ np.diag(sample['lam'][i - 1, :]) @ err\n",
    "        sample['sig2'][i] = stats.invgamma.rvs(alpha1 / 2, size=1, scale=delta1 / 2)\n",
    "\n",
    "        for j in range(len(y)):\n",
    "            nu2 = nu0 + err[j]**2 / sample['sig2'][i]\n",
    "            sample['lam'][i, j] = stats.gamma.rvs(nu1 / 2, size=1, scale=2 / nu2)\n",
    "        \n",
    "    return sample\n",
    "\n",
    "# Import stock return data\n",
    "with open(\"returns.csv\", \"r\") as file:\n",
    "    reader = csv.reader(file)\n",
    "    header = next(reader)\n",
    "    data = [row for row in reader]\n",
    "\n",
    "data = np.array(data, dtype=float)\n",
    "y = data[:, header.index('TSLA')].reshape(-1, 1)\n",
    "x = np.zeros((len(y), 2))\n",
    "x[:, 0] = 1\n",
    "x[:, 1] = data[:, header.index('SPY')]\n",
    "\n",
    "# Prior and posterior\n",
    "beta0 = np.array([0, 1])\n",
    "B0 = np.array([[4, 0], [0, 4]])\n",
    "alpha0 = 5\n",
    "delta0 = 5\n",
    "nu0 = 5\n",
    "sample1 = full_run(y, x, 11000, beta0, B0, alpha0, delta0, nu0)\n",
    "sample1['beta'] = sample1['beta'][1000:11000, :]\n",
    "sample1['sig2'] = sample1['sig2'][1000:11000]\n",
    "sample1['lam'] = sample1['lam'][1000:11000, :]\n",
    "\n",
    "# Plot\n",
    "fig, (ax1, ax2) = plt.subplots(1, 2, figsize=(8, 4))\n",
    "alpha = np.linspace(-6, 6, 100)\n",
    "ax1.plot(alpha, stats.norm.pdf(alpha, loc=0, scale=2))\n",
    "ax1.hist(sample1['beta'][:, 0], bins=50, density=True, color=\"red\", alpha=0.5)\n",
    "ax1.set_xlabel(r'$\\alpha$', fontsize=12)\n",
    "beta = np.linspace(-5, 7, 100)\n",
    "ax2.plot(beta, stats.norm.pdf(beta, loc=1, scale=2))\n",
    "ax2.hist(sample1['beta'][:, 1], bins=50, density=True, color=\"red\", alpha=0.5)\n",
    "ax2.set_xlabel(r'$\\beta$', fontsize=12)\n",
    "fig.suptitle('Prior vs. Posterior', fontsize=14)\n",
    "plt.show()"
   ]
  },
  {
   "cell_type": "code",
   "execution_count": 7,
   "id": "eebfabbc",
   "metadata": {},
   "outputs": [
    {
     "name": "stderr",
     "output_type": "stream",
     "text": [
      "100% (10999 of 10999) |##################| Elapsed Time: 0:02:57 Time:  0:02:57\n"
     ]
    }
   ],
   "source": [
    "def reduce_run(y, x, n, beta, alpha0, delta0, nu0):\n",
    "    # Initialization\n",
    "    sample = {'sig2': np.zeros((n, 1)), 'lam': np.zeros((n, len(y)))}\n",
    "    sample['sig2'][0] = (delta0 / 2) / (alpha0 / 2 - 1)\n",
    "    sample['lam'][0, :] = 1\n",
    "    alpha1 = alpha0 + len(y)\n",
    "    nu1 = nu0 + 1\n",
    "    \n",
    "    # Sampling\n",
    "    for i in progressbar(range(1, n)):\n",
    "        err = y - x @ beta.reshape(-1, 1)\n",
    "        delta1 = delta0 + err.T @ np.diag(sample['lam'][i - 1, :]) @ err\n",
    "        sample['sig2'][i] = stats.invgamma.rvs(alpha1 / 2, size=1, scale=delta1 / 2)\n",
    "\n",
    "        for j in range(len(y)):\n",
    "            nu2 = nu0 + err[j]**2 / sample['sig2'][i]\n",
    "            sample['lam'][i, j] = stats.gamma.rvs(nu1 / 2, size=1, scale=2 / nu2)\n",
    "        \n",
    "    return sample\n",
    "\n",
    "# Reduced run\n",
    "beta = np.mean(sample1['beta'], axis=0)\n",
    "sample2 = reduce_run(y, x, 11000, beta, alpha0, delta0, nu0)\n",
    "sample2['sig2'] = sample2['sig2'][1000:11000]\n",
    "sample2['lam'] = sample2['lam'][1000:11000, :]"
   ]
  },
  {
   "cell_type": "code",
   "execution_count": 8,
   "id": "7fcaf324",
   "metadata": {},
   "outputs": [
    {
     "name": "stderr",
     "output_type": "stream",
     "text": [
      "100% (10000 of 10000) |##################| Elapsed Time: 0:00:11 Time:  0:00:11\n"
     ]
    },
    {
     "name": "stdout",
     "output_type": "stream",
     "text": [
      "[-661.01628309]\n"
     ]
    }
   ],
   "source": [
    "# Marginal likelihood by Chib (1995)\n",
    "def marg_lik(y, x, s1, s2, beta, sig2, beta0, B0, alpha0, delta0, nu0):\n",
    "    # Initialization\n",
    "    alpha1 = alpha0 + len(y)\n",
    "    n = s1['beta'].shape[0]\n",
    "    post_ord1 = np.zeros(n)\n",
    "    post_ord2 = np.zeros(n)\n",
    "\n",
    "    # Evaluation\n",
    "    for i in progressbar(range(n)):\n",
    "        B1 = np.linalg.inv(x.T @ np.diag(s1['lam'][i, :]) @ x / s1['sig2'][i] + np.linalg.inv(B0))\n",
    "        beta1 = B1 @ (x.T @ np.diag(s1['lam'][i, :]) @ y / s1['sig2'][i] + np.linalg.inv(B0) @ beta0.reshape(-1,1))\n",
    "        post_ord1[i] = stats.multivariate_normal.pdf(beta, mean=beta1.ravel(), cov=B1)\n",
    "    \n",
    "        err = y - x @ beta.reshape(-1, 1)\n",
    "        delta1 = delta0 + err.T @ np.diag(s2['lam'][i, :]) @ err\n",
    "        post_ord2[i] = stats.invgamma.pdf(sig2, alpha1 / 2, scale=delta1 / 2)\n",
    "\n",
    "    log_lik = sum(stats.t.logpdf(err, nu0, scale=np.sqrt(sig2)))\n",
    "    log_prior = stats.multivariate_normal.logpdf(beta, mean=beta0.ravel(), cov=B0) + stats.invgamma.logpdf(sig2, alpha0 / 2, scale=delta0 / 2)\n",
    "\n",
    "    return log_lik + log_prior - np.log(np.mean(post_ord1)) - np.log(np.mean(post_ord2))\n",
    "\n",
    "# Marginal likelihood\n",
    "sig2 = np.mean(sample1['sig2'])\n",
    "log_ml = marg_lik(y, x, sample1, sample2, beta, sig2, beta0, B0, alpha0, delta0, nu0)\n",
    "print(log_ml)"
   ]
  }
 ],
 "metadata": {
  "kernelspec": {
   "display_name": "Python 3",
   "language": "python",
   "name": "python3"
  },
  "language_info": {
   "codemirror_mode": {
    "name": "ipython",
    "version": 3
   },
   "file_extension": ".py",
   "mimetype": "text/x-python",
   "name": "python",
   "nbconvert_exporter": "python",
   "pygments_lexer": "ipython3",
   "version": "3.11.2"
  },
  "vscode": {
   "interpreter": {
    "hash": "aee8b7b246df8f9039afb4144a1f6fd8d2ca17a180786b69acc140d282b71a49"
   }
  }
 },
 "nbformat": 4,
 "nbformat_minor": 5
}
